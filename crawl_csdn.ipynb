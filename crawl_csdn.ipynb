{
 "cells": [
  {
   "cell_type": "code",
   "execution_count": 8,
   "id": "c86fbae3",
   "metadata": {},
   "outputs": [
    {
     "ename": "KeyError",
     "evalue": "'create_time_str'",
     "output_type": "error",
     "traceback": [
      "\u001b[0;31m---------------------------------------------------------------------------\u001b[0m",
      "\u001b[0;31mKeyError\u001b[0m                                  Traceback (most recent call last)",
      "Cell \u001b[0;32mIn [8], line 44\u001b[0m\n\u001b[1;32m     42\u001b[0m \u001b[38;5;66;03m#loads:把json转换为dict\u001b[39;00m\n\u001b[1;32m     43\u001b[0m resp_dict \u001b[38;5;241m=\u001b[39m json\u001b[38;5;241m.\u001b[39mloads(resp_json)\n\u001b[0;32m---> 44\u001b[0m new_dict\u001b[38;5;241m=\u001b[39m\u001b[43mraws_to_new\u001b[49m\u001b[43m(\u001b[49m\u001b[43mresp_dict\u001b[49m\u001b[43m)\u001b[49m\n\u001b[1;32m     45\u001b[0m \u001b[38;5;66;03m#print(new_dict)\u001b[39;00m\n\u001b[1;32m     46\u001b[0m \u001b[38;5;66;03m#dumps:把字典转换为json字符串\u001b[39;00m\n\u001b[1;32m     47\u001b[0m new_resp \u001b[38;5;241m=\u001b[39m json\u001b[38;5;241m.\u001b[39mdumps(new_dict,ensure_ascii\u001b[38;5;241m=\u001b[39m\u001b[38;5;28;01mFalse\u001b[39;00m)\n",
      "Cell \u001b[0;32mIn [8], line 27\u001b[0m, in \u001b[0;36mraws_to_new\u001b[0;34m(dict_resp)\u001b[0m\n\u001b[1;32m     24\u001b[0m \u001b[38;5;66;03m# csdn 的 blog 是使用body展示的,body中的标签转义:比如<p>转为&lt;p&gt;\u001b[39;00m\n\u001b[1;32m     25\u001b[0m \u001b[38;5;66;03m# sub_d['body']=result['body']\u001b[39;00m\n\u001b[1;32m     26\u001b[0m sub_d[\u001b[38;5;124m'\u001b[39m\u001b[38;5;124mcreated_at\u001b[39m\u001b[38;5;124m'\u001b[39m]\u001b[38;5;241m=\u001b[39mresult[\u001b[38;5;124m'\u001b[39m\u001b[38;5;124mcreated_at\u001b[39m\u001b[38;5;124m'\u001b[39m]\n\u001b[0;32m---> 27\u001b[0m sub_d[\u001b[38;5;124m'\u001b[39m\u001b[38;5;124mcreate_time_str\u001b[39m\u001b[38;5;124m'\u001b[39m]\u001b[38;5;241m=\u001b[39m\u001b[43mresult\u001b[49m\u001b[43m[\u001b[49m\u001b[38;5;124;43m'\u001b[39;49m\u001b[38;5;124;43mcreate_time_str\u001b[39;49m\u001b[38;5;124;43m'\u001b[39;49m\u001b[43m]\u001b[49m\n\u001b[1;32m     28\u001b[0m \u001b[38;5;66;03m# view、digg、comment展示不为”0“ 的\u001b[39;00m\n\u001b[1;32m     29\u001b[0m sub_d[\u001b[38;5;124m'\u001b[39m\u001b[38;5;124mdigg\u001b[39m\u001b[38;5;124m'\u001b[39m]\u001b[38;5;241m=\u001b[39mresult[\u001b[38;5;124m'\u001b[39m\u001b[38;5;124mdigg\u001b[39m\u001b[38;5;124m'\u001b[39m]\n",
      "\u001b[0;31mKeyError\u001b[0m: 'create_time_str'"
     ]
    }
   ],
   "source": [
    "import requests\n",
    "import json\n",
    "\n",
    "def send_query(query,page):\n",
    "    query_url=\"https://so.csdn.net/api/v3/search?q=query&t=all&p=page&tm=0&lv=-1&ft=0&l=&u=&ct=-1&pnt=-1&ry=-1&ss=-1&dct=-1&vco=-1&cc=-1&sc=-1&akt=-1&art=-1&ca=-1&prs=&pre=&ecc=-1&ebc=-1&urw=&ia=1&dId=&cl=-1&scl=-1&tcl=-1&platform=pc\"\n",
    "    new_url=query_url.replace(\"query\",query).replace(\"page\",page)\n",
    "    resp=requests.get(new_url)\n",
    "    return resp.text\n",
    "def raws_to_new(dict_resp):\n",
    "    d={'page_info':{},'total_hits':dict_resp['total'],'hits':[]}\n",
    "    page_d={}\n",
    "    page_d['limit']=len(dict_resp['result_vos'])\n",
    "    page_d['total']=dict_resp['total_page']\n",
    "    d['page_info']=page_d\n",
    "    hits=[]\n",
    "    for result in dict_resp['result_vos']:\n",
    "        # 以下只适用于博客,如果有用户其他字段会报错\n",
    "        sub_d={}\n",
    "        #  有article、download、bestAnswer\n",
    "        sub_d['id']=result['id']\n",
    "        sub_d['type']=result['type']\n",
    "        sub_d['title']=result['title']\n",
    "        sub_d['description']=result['description']\n",
    "        sub_d['digest']=result['digest']\n",
    "        # csdn 的 blog 是使用body展示的,body中的标签转义:比如<p>转为&lt;p&gt;\n",
    "        # sub_d['body']=result['body']\n",
    "        sub_d['created_at']=result['created_at']\n",
    "        sub_d['create_time_str']=result['create_time_str']\n",
    "        # view、digg、comment展示不为”0“ 的\n",
    "        sub_d['digg']=result['digg']\n",
    "        sub_d['view']=result['view']\n",
    "        sub_d['comment']=result['comment']\n",
    "        sub_d['author']=result['author']\n",
    "        sub_d['author_id']=result['author_id']\n",
    "        # csdn 展示的是nickname\n",
    "        sub_d['author_nickname']=result['nickname']\n",
    "        hits.append(sub_d)\n",
    "    d['hits']=hits\n",
    "    return d\n",
    "query='query'\n",
    "page='1'\n",
    "resp_json=send_query(query,page)\n",
    "#loads:把json转换为dict\n",
    "resp_dict = json.loads(resp_json)\n",
    "new_dict=raws_to_new(resp_dict)\n",
    "#print(new_dict)\n",
    "#dumps:把字典转换为json字符串\n",
    "new_resp = json.dumps(new_dict,ensure_ascii=False)\n",
    "print(new_resp)\n"
   ]
  },
  {
   "cell_type": "code",
   "execution_count": 16,
   "id": "5ad5fca7",
   "metadata": {},
   "outputs": [],
   "source": []
  },
  {
   "cell_type": "code",
   "execution_count": 18,
   "id": "0b954af6",
   "metadata": {},
   "outputs": [
    {
     "name": "stdout",
     "output_type": "stream",
     "text": [
      "<!DOCTYPE html><html lang=\"en\"><head><meta charset=\"utf-8\"><meta http-equiv=\"X-UA-Compatible\" content=\"IE=edge\"><meta name=\"referrer\" content=\"always\"><meta name=\"report\" content='{\"spm\":\"1018.2226\",\"disabled\":\"true\"}'><meta name=\"csdn-baidu-search\" content='{\"keyword\":\"\"}'><meta name=\"viewport\" content=\"width=device-width,initial-scale=1\"><link rel=\"icon\" href=\"https://csdnimg.cn/public/favicon.ico\"><title></title><script src=\"https://csdnimg.cn/public/common/libs/jquery/jquery-1.9.1.min.js\"></script><script src=\"https://g.csdnimg.cn/baidu-search/1.0.12/baidu-search.js\"></script><script>var CFG = {\n",
      "      API_URL: \"//so.csdn.net/so/\",\n",
      "      js_insert_first: true,\n",
      "      js_insert_count: 0\n",
      "    }</script><link href=\"https://csdnimg.cn/release/searchv2-fe/css/chunk-e95bfec8.e7b53c66.css\" rel=\"prefetch\"><link href=\"https://csdnimg.cn/release/searchv2-fe/js/chunk-bad5d2d4.ede6ddb0.js\" rel=\"prefetch\"><link href=\"https://csdnimg.cn/release/searchv2-fe/js/chunk-e95bfec8.2eadc151.js\" rel=\"prefetch\"><link href=\"https://csdnimg.cn/release/searchv2-fe/css/index.12d0a580.css\" rel=\"preload\" as=\"style\"><link href=\"https://csdnimg.cn/release/searchv2-fe/js/chunk-vendors.e7e84e23.js\" rel=\"preload\" as=\"script\"><link href=\"https://csdnimg.cn/release/searchv2-fe/js/index.c588f479.js\" rel=\"preload\" as=\"script\"><link href=\"https://csdnimg.cn/release/searchv2-fe/css/index.12d0a580.css\" rel=\"stylesheet\"></head><body style=\"position: relative;\"><noscript><strong>We're sorry but search-fe-v2 doesn't work properly without JavaScript enabled. Please enable it to continue.</strong></noscript><div id=\"app\"></div><script id=\"toolbar-tpl-scriptId\" prod=\"so\" skin=\"black\" src=\"https://g.csdnimg.cn/common/csdn-toolbar/csdn-toolbar.js\" domain=\"//so.csdn.net/so/\"></script><script src=\"https://g.csdnimg.cn/common/csdn-login-box/csdn-login-box.js\"></script><script src=\"https://g.csdnimg.cn/user-tooltip/2.4/user-tooltip.js\"></script><script>// 判断是不是ie浏览器\n",
      "  if (!!window.ActiveXObject || 'ActiveXObject' in window) {\n",
      "    // 判断是不是ie10以上\n",
      "    if (!(/msie [6|7|8|9]/i.test(navigator.userAgent))) {\n",
      "      //ie10以上\n",
      "      if (!window.upgrade) {\n",
      "        window.upgrade = true\n",
      "        let s = document.createElement('script')\n",
      "        s.src = 'https://g.csdnimg.cn/browser_upgrade/1.0.2/browser_upgrade.js'\n",
      "        let x = document.getElementsByTagName('script')[0]\n",
      "        x.parentNode.insertBefore(s, x)\n",
      "      }\n",
      "    }\n",
      "  }</script><script>window.onload = function () {\n",
      "    if (window.csdn && typeof window.csdn.configuration_tool_parameterv === 'function') {\n",
      "      window.csdn.configuration_tool_parameterv({\n",
      "        need_change_function: function (flag) {\n",
      "          let c_toolbar = $('#csdn-toolbar')\n",
      "          let s_toolbar = $('.so-toolbar')\n",
      "          let advert = $('#csdn-toolbar .toolbar-advert')\n",
      "          if (flag === 'fixed') {\n",
      "            if (advert.length) advert.hide()\n",
      "            s_toolbar.addClass('fixed').css('top', '0px')\n",
      "          } else if (flag === 'noFixed') {\n",
      "            if (advert.length) advert.show()\n",
      "            s_toolbar.removeClass('fixed')\n",
      "          }\n",
      "        }\n",
      "      })\n",
      "    }\n",
      "  }</script><script src=\"//g.csdnimg.cn/common/csdn-report/report.js\" defer></script><script src=\"//g.csdnimg.cn/fixed-sidebar/1.1.6/fixed-sidebar.js\"></script><script src=\"https://csdnimg.cn/release/searchv2-fe/js/chunk-vendors.e7e84e23.js\"></script><script src=\"https://csdnimg.cn/release/searchv2-fe/js/index.c588f479.js\"></script></body></html>\n"
     ]
    }
   ],
   "source": []
  },
  {
   "cell_type": "code",
   "execution_count": 13,
   "id": "3040e3de",
   "metadata": {},
   "outputs": [],
   "source": []
  },
  {
   "cell_type": "code",
   "execution_count": null,
   "id": "61647e5a",
   "metadata": {},
   "outputs": [],
   "source": []
  }
 ],
 "metadata": {
  "kernelspec": {
   "display_name": "Python 3 (ipykernel)",
   "language": "python",
   "name": "python3"
  },
  "language_info": {
   "codemirror_mode": {
    "name": "ipython",
    "version": 3
   },
   "file_extension": ".py",
   "mimetype": "text/x-python",
   "name": "python",
   "nbconvert_exporter": "python",
   "pygments_lexer": "ipython3",
   "version": "3.8.15"
  }
 },
 "nbformat": 4,
 "nbformat_minor": 5
}
